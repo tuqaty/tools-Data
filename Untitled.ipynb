{
 "cells": [
  {
   "cell_type": "markdown",
   "id": "58b67040",
   "metadata": {},
   "source": [
    "# these are my exercises "
   ]
  },
  {
   "cell_type": "markdown",
   "id": "b14b83ec",
   "metadata": {},
   "source": [
    "Hello , I have finished these course and now want to do exercises to pass this course\n",
    "\n",
    "*tuqatairy*"
   ]
  },
  {
   "cell_type": "markdown",
   "id": "70d230fd",
   "metadata": {},
   "source": [
    "### Data science languages\n",
    "\n",
    "- python \n",
    "- R \n",
    "- julia"
   ]
  },
  {
   "cell_type": "markdown",
   "id": "3fe97ce1",
   "metadata": {},
   "source": [
    "### Data science libraries \n",
    "\n",
    "+ tensorflow \n",
    "+ scikkit-learn \n",
    "+ pandas"
   ]
  },
  {
   "cell_type": "markdown",
   "id": "4884637d",
   "metadata": {},
   "source": [
    "### Data science tools \n",
    "\n",
    "\n",
    "merge and translate | visulalization \n",
    "--------------------| --------------\n",
    "apache Airflow| pixi sut\n",
    "kubeflow|hue\n",
    "apache kafka|kibana\n",
    "apache nifi|apache superset"
   ]
  },
  {
   "cell_type": "markdown",
   "id": "d9381404",
   "metadata": {},
   "source": [
    "#### introducing arithmetic expression examples\n"
   ]
  },
  {
   "cell_type": "code",
   "execution_count": 4,
   "id": "a47a64ba",
   "metadata": {},
   "outputs": [],
   "source": [
    "def multiply(x , y):\n",
    "    return x*y\n",
    "\n",
    "def add(x,y):\n",
    "    return x+y\n"
   ]
  },
  {
   "cell_type": "code",
   "execution_count": 6,
   "id": "dc3bef10",
   "metadata": {},
   "outputs": [
    {
     "name": "stdout",
     "output_type": "stream",
     "text": [
      "8 _ 6\n"
     ]
    }
   ],
   "source": [
    "a = multiply(2 ,4 )\n",
    "b = add(2 ,4 )\n",
    "print ( a , \"_\" ,b )"
   ]
  },
  {
   "cell_type": "markdown",
   "id": "2a1f0d3d",
   "metadata": {},
   "source": [
    "### Objectives \n",
    "\n",
    "+ I aspire to become a data scientist\n",
    "+ work with major companies\n",
    "+ be influential in the world of technology"
   ]
  },
  {
   "cell_type": "markdown",
   "id": "e4ab773f",
   "metadata": {},
   "source": [
    "***Tuqa Tairy***\n",
    "\n",
    "***تقى طيري***"
   ]
  },
  {
   "cell_type": "code",
   "execution_count": null,
   "id": "0a69965b",
   "metadata": {},
   "outputs": [],
   "source": []
  }
 ],
 "metadata": {
  "kernelspec": {
   "display_name": "Python 3",
   "language": "python",
   "name": "python3"
  },
  "language_info": {
   "codemirror_mode": {
    "name": "ipython",
    "version": 3
   },
   "file_extension": ".py",
   "mimetype": "text/x-python",
   "name": "python",
   "nbconvert_exporter": "python",
   "pygments_lexer": "ipython3",
   "version": "3.8.8"
  }
 },
 "nbformat": 4,
 "nbformat_minor": 5
}
